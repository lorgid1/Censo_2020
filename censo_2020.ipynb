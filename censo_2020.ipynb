{
 "cells": [
  {
   "attachments": {},
   "cell_type": "markdown",
   "metadata": {},
   "source": [
    "# Censo de poblacion y vivienda 2020"
   ]
  },
  {
   "attachments": {},
   "cell_type": "markdown",
   "metadata": {},
   "source": [
    "## Librerias y configuraciones"
   ]
  },
  {
   "cell_type": "code",
   "execution_count": 1,
   "metadata": {},
   "outputs": [],
   "source": [
    "import os\n",
    "import pandas as pd\n",
    "import random as rnd\n",
    "import numpy as np"
   ]
  },
  {
   "cell_type": "code",
   "execution_count": 2,
   "metadata": {},
   "outputs": [],
   "source": [
    "# Variable definida para imprimir información adicional en la libreta.\n",
    "verbose = True"
   ]
  },
  {
   "attachments": {},
   "cell_type": "markdown",
   "metadata": {},
   "source": [
    "## Importar archivos"
   ]
  },
  {
   "cell_type": "code",
   "execution_count": 3,
   "metadata": {},
   "outputs": [
    {
     "name": "stdout",
     "output_type": "stream",
     "text": [
      "El archivo de datos existe: True\n",
      "El descriptor de base de datos existe: True\n"
     ]
    }
   ],
   "source": [
    "# DATA_DIR es una variable de entorno en mi computadora a la cual se le \n",
    "# asignó el valor de el dicrectorio donde se guardan los datos a procesar.\n",
    "data_dir = os.getenv('DATA_DIR')\n",
    "\n",
    "# La información censal la guardo en una carpeta llamada EventosCensales \n",
    "# dentro del directorio de datos.\n",
    "censales_dir = 'EventosCensales'\n",
    "\n",
    "# Se respetó la estructura de carpetas original que se obtiene al descomprimir \n",
    "# el archivo zip que se obtiene de INEGI. Algunas veces se modifican estos \n",
    "# archivos asi que pueden cambiar. En este caso el zip se descomprimió en una \n",
    "# carpeta llamada iter_00_cpv2020.\n",
    "censo_2020_dir = 'iter_00_cpv2020'\n",
    "\n",
    "# Los datos se encuentran dentro de la carpeta conjunto_de_datos y el descriptor \n",
    "# de cada uno de los campos se encuentra en diccionario_datos.\n",
    "subdir_datos = 'conjunto_de_datos'\n",
    "subdir_descriptor = 'diccionario_datos'\n",
    "\n",
    "# El nombre del archivo donde se encentran los datos es \n",
    "# 'conjunto_de_datos_iter_00CSV20.csv' y descriptor de la base tiene el nombre \n",
    "# 'diccionario_datos_iter_00CSV20.csv'. Los dos vienen en formato csv.\n",
    "archivo_datos = 'conjunto_de_datos_iter_00CSV20.csv'\n",
    "archivo_descriptor = 'diccionario_datos_iter_00CSV20.csv'\n",
    "\n",
    "# Concatenar las rutas de archivos\n",
    "ruta_de_archivo = os.path.join(data_dir, \n",
    "                               censales_dir, \n",
    "                               censo_2020_dir, \n",
    "                               subdir_datos, \n",
    "                               archivo_datos)\n",
    "\n",
    "ruta_de_descriptor = os.path.join(data_dir, \n",
    "                                  censales_dir, \n",
    "                                  censo_2020_dir, \n",
    "                                  subdir_descriptor, \n",
    "                                  archivo_descriptor)\n",
    "\n",
    "if verbose:\n",
    "\n",
    "    print(f'El archivo de datos existe: {os.path.isfile(ruta_de_archivo)}')\n",
    "    print(f'El descriptor de base de datos existe: {os.path.isfile(ruta_de_descriptor)}')\n"
   ]
  },
  {
   "cell_type": "code",
   "execution_count": 4,
   "metadata": {},
   "outputs": [
    {
     "name": "stderr",
     "output_type": "stream",
     "text": [
      "C:\\Users\\Lorrain\\AppData\\Local\\Temp\\ipykernel_4744\\2739558870.py:2: DtypeWarning: Columns (8) have mixed types. Specify dtype option on import or set low_memory=False.\n",
      "  raw_censo_2020 = pd.read_csv(ruta_de_archivo)\n"
     ]
    }
   ],
   "source": [
    "# Importar archivo de datos\n",
    "raw_censo_2020 = pd.read_csv(ruta_de_archivo)"
   ]
  },
  {
   "attachments": {},
   "cell_type": "markdown",
   "metadata": {},
   "source": [
    "## Análisis inicial"
   ]
  },
  {
   "attachments": {},
   "cell_type": "markdown",
   "metadata": {},
   "source": [
    "La mayor parte de las columnas se importa como objeto, lo que significa que existen diferentes tipos de datos dentro de cada una de las columnas. Para homogeneizar los datos se tiene que hacer un analisis mas detallado para definir que tipo de dato debe de ser cada una de las columnas y cuales son los valores que no son de este tipo en cada una de ellas."
   ]
  },
  {
   "cell_type": "code",
   "execution_count": 5,
   "metadata": {},
   "outputs": [
    {
     "name": "stdout",
     "output_type": "stream",
     "text": [
      "<class 'pandas.core.frame.DataFrame'>\n",
      "RangeIndex: 195662 entries, 0 to 195661\n",
      "Columns: 286 entries, ENTIDAD to TAMLOC\n",
      "dtypes: int64(6), object(280)\n",
      "memory usage: 426.9+ MB\n"
     ]
    }
   ],
   "source": [
    "# Primera desc\n",
    "raw_censo_2020.info()"
   ]
  },
  {
   "attachments": {},
   "cell_type": "markdown",
   "metadata": {},
   "source": [
    "El primer registro es un buen acercamiento al tipo de dato que contiene cada una de las columnas. Representa el total nacional, y como tal hay columnas que no aplican. Tal es el caso de las columnas que definen el nombre y clave del Estado, Municipio, y Localidad. No contienen tampoco longitud y latiud, estos datos solo estan presentes en los registros que representan localidades especificas."
   ]
  },
  {
   "cell_type": "code",
   "execution_count": 6,
   "metadata": {},
   "outputs": [
    {
     "name": "stdout",
     "output_type": "stream",
     "text": [
      "Numero de columnas 286\n"
     ]
    }
   ],
   "source": [
    "# Diccionario cuyas llaves son el nombre de columna y valores del primer registro \n",
    "# del dataframe.\n",
    "ejemplo_datos = {key : value for key, value in \n",
    "                zip(raw_censo_2020.columns, raw_censo_2020.iloc[0])}\n",
    "\n",
    "if verbose:\n",
    "    print(f'Numero de columnas {len(ejemplo_datos.items())}')"
   ]
  },
  {
   "attachments": {},
   "cell_type": "markdown",
   "metadata": {},
   "source": [
    "Existen tres tipos de columnas que deben estar en formato string. El primer tipo es el que contiene los nombres de los Estados, Municipios y Localidades. El segundo tipo contiene las claves de los diferentes niveles de entidad. Y el tercero contiene las coodenadas geograficas en formato de grados minutos y seguntos. Las columnas que deberian ser texto son las siguientes:\n",
    "\n",
    "['ENTIDAD', 'NOM_ENT', 'MUN', 'NOM_MUN', 'LOC', 'NOM_LOC', 'LONGITUD', 'LATITUD']"
   ]
  },
  {
   "attachments": {},
   "cell_type": "markdown",
   "metadata": {},
   "source": [
    "El resto de las columnas contiene valores numericos. Casi todas tienen el formato de numeros enteros pero 6 que contienen promedios y una que contiene la relacion que existe entre hombres y mujeres de la delimitación geoestadistica. Estos campos contienen decimales por lo que deben de tener el formato Float. Las columnas con valores decimales son:\n",
    "\n",
    "['REL_H_M', 'PROM_HNV', 'GRAPROES', 'GRAPROES_F', 'GRAPROES_M', 'PROM_OCUP', 'PRO_OCUP_C']"
   ]
  },
  {
   "attachments": {},
   "cell_type": "markdown",
   "metadata": {},
   "source": [
    "El resto de las columnas contienen numeros enteros."
   ]
  },
  {
   "cell_type": "code",
   "execution_count": 7,
   "metadata": {},
   "outputs": [],
   "source": [
    "# En general las libretas jupyter no imprimen un texto de mas de ciertas lineas.\n",
    "# para ver todos los registros hay que cambiar los valores dentro de los\n",
    "# corchetes ([0:20]) de la linea comentada para recorrerlos todos. Hay 286 pares \n",
    "# llave: valor en el diccionario.\n",
    "\n",
    "#for item in list(ejemplo_datos.items())[0:20]: print(item)  "
   ]
  },
  {
   "cell_type": "code",
   "execution_count": 8,
   "metadata": {},
   "outputs": [],
   "source": [
    "# Todas las columnas\n",
    "columnas_censo_2020 = list(raw_censo_2020.columns)\n",
    "\n",
    "# Columnas de texto\n",
    "columnas_string = ['ENTIDAD', 'NOM_ENT', 'MUN', 'NOM_MUN', 'LOC', 'NOM_LOC', \n",
    "                   'LONGITUD', 'LATITUD']\n",
    "# Columnas con valores decimales\n",
    "columnas_decimal = ['REL_H_M', 'PROM_HNV', 'GRAPROES', 'GRAPROES_F', 'GRAPROES_M', \n",
    "                    'PROM_OCUP', 'PRO_OCUP_C']\n",
    "\n",
    "# El resto de las columnas son numeros enteros\n",
    "columnas_entero = [i for i in columnas_censo_2020 if i not in columnas_string + columnas_decimal]"
   ]
  },
  {
   "attachments": {},
   "cell_type": "markdown",
   "metadata": {},
   "source": [
    "Existen dos valores no numericos en las columnas con formato de numeros enteros y tambien de decimales. Estos valores hacen que el programa represente como objeto todos los registros. Los valores de texto que hay que sustituir son los siguientes:\n",
    "\n",
    "['*', 'N/D']"
   ]
  },
  {
   "attachments": {},
   "cell_type": "markdown",
   "metadata": {},
   "source": [
    "La columna ALTITUD tiene 32 valores no numericos. En teoria deberia contener valores enteros y va a ser tratado como un caso aparte."
   ]
  },
  {
   "cell_type": "code",
   "execution_count": 67,
   "metadata": {},
   "outputs": [],
   "source": [
    "\n",
    "valores_string_por_columna = {}\n",
    "for column in columnas_censo_2020:\n",
    "        # Se quitaron las columnas con nombres pero se dejaron las columnas con claves\n",
    "        # alfanumericas\n",
    "        if column not in ['NOM_ENT', 'NOM_MUN', 'NOM_LOC', 'LONGITUD', 'LATITUD']:\n",
    "                valores_no_numericos = tuple(raw_censo_2020[~raw_censo_2020[column]\n",
    "                                                            .astype('string')\n",
    "                                                            .str.strip()\n",
    "                                                            .str.replace('.', '', regex = False)\n",
    "                                                            .str.isnumeric()]\n",
    "                                                            [column].unique())\n",
    "                if valores_no_numericos in valores_string_por_columna.keys():\n",
    "                        valores_string_por_columna[valores_no_numericos] += [column]\n",
    "                \n",
    "                else:\n",
    "                        valores_string_por_columna[valores_no_numericos] = [column]\n"
   ]
  },
  {
   "cell_type": "code",
   "execution_count": 94,
   "metadata": {},
   "outputs": [],
   "source": [
    "#raw_censo_2020[raw_censo_2020.eq('*').any(1)]\n",
    "#raw_censo_2020[raw_censo_2020.eq('N/D').any(1)]\n",
    "#list(valores_string_por_columna.values())[1]\n",
    "#list(valores_string_por_columna.keys())[1]"
   ]
  },
  {
   "cell_type": "code",
   "execution_count": 89,
   "metadata": {},
   "outputs": [
    {
     "name": "stdout",
     "output_type": "stream",
     "text": [
      "Registros en los que aparece el valor N/D: 152\n",
      "Registros en los que aparece el valor *: 87335\n"
     ]
    }
   ],
   "source": [
    "\n",
    "if verbose:\n",
    "    ND_verdaderos = raw_censo_2020.eq('N/D').any(axis = 1).value_counts()[1]\n",
    "    asterisco_verdaderos = raw_censo_2020.eq('*').any(axis = 1).value_counts()[1]\n",
    "\n",
    "    print(f'Registros en los que aparece el valor N/D: {ND_verdaderos}')\n",
    "    print(f'Registros en los que aparece el valor *: {asterisco_verdaderos}')\n"
   ]
  },
  {
   "attachments": {},
   "cell_type": "markdown",
   "metadata": {},
   "source": [
    "## Cambiar el formato a columnas"
   ]
  },
  {
   "attachments": {},
   "cell_type": "markdown",
   "metadata": {},
   "source": [
    "### Columnas de texto"
   ]
  },
  {
   "cell_type": "code",
   "execution_count": null,
   "metadata": {},
   "outputs": [],
   "source": [
    "for string_column, keylength in zip(['ENTIDAD', 'MUN', 'LOC'], [2, 3, 4]):\n",
    "    raw_censo_2020[string_column] = raw_censo_2020[string_column].astype('string').str.zfill(keylength)\n",
    "\n"
   ]
  },
  {
   "cell_type": "code",
   "execution_count": 9,
   "metadata": {},
   "outputs": [],
   "source": [
    "\n",
    "column_dtype = {}\n",
    "for column in raw_censo_2020.columns:\n",
    "\n",
    "    if column in columnas_string:\n",
    "        column_dtype[column] = 'string'\n",
    "\n",
    "    elif column in columnas_decimal:\n",
    "        column_dtype[column] = 'Float64'\n",
    "\n",
    "    else:\n",
    "        column_dtype[column] = 'Int64'\n"
   ]
  },
  {
   "cell_type": "code",
   "execution_count": 18,
   "metadata": {},
   "outputs": [],
   "source": [
    "\n",
    "for string_column in columnas_string:\n",
    "    if string_column not in ['ENTIDAD', 'MUN', 'LOC']:\n",
    "        raw_censo_2020[string_column] = raw_censo_2020[string_column].astype(\"string\")\n",
    "\n",
    "for numeric_column in raw_censo_2020.columns:\n",
    "\n",
    "    if numeric_column not in columnas_string + ['ALTITUD']:\n",
    "        \n",
    "        raw_censo_2020[numeric_column].replace(to_replace = ['*', 'N/D'], value = np.nan, inplace = True)\n",
    "\n",
    "        if numeric_column in columnas_decimal:\n",
    "            raw_censo_2020[numeric_column] = raw_censo_2020[numeric_column].astype('Float64')\n",
    "        \n",
    "        else:\n",
    "            raw_censo_2020[numeric_column] = raw_censo_2020[numeric_column].astype('Int64')\n",
    "\n",
    "\n",
    "\n"
   ]
  },
  {
   "cell_type": "code",
   "execution_count": 19,
   "metadata": {},
   "outputs": [
    {
     "data": {
      "text/plain": [
       "['ENTIDAD',\n",
       " 'NOM_ENT',\n",
       " 'MUN',\n",
       " 'NOM_MUN',\n",
       " 'LOC',\n",
       " 'NOM_LOC',\n",
       " 'LONGITUD',\n",
       " 'LATITUD',\n",
       " 'REL_H_M',\n",
       " 'PROM_HNV',\n",
       " 'GRAPROES',\n",
       " 'GRAPROES_F',\n",
       " 'GRAPROES_M',\n",
       " 'PROM_OCUP',\n",
       " 'PRO_OCUP_C']"
      ]
     },
     "execution_count": 19,
     "metadata": {},
     "output_type": "execute_result"
    }
   ],
   "source": [
    "columnas_string + columnas_decimal"
   ]
  },
  {
   "cell_type": "code",
   "execution_count": 20,
   "metadata": {},
   "outputs": [
    {
     "name": "stdout",
     "output_type": "stream",
     "text": [
      "<class 'pandas.core.frame.DataFrame'>\n",
      "RangeIndex: 195662 entries, 0 to 195661\n",
      "Columns: 271 entries, ALTITUD to TAMLOC\n",
      "dtypes: Int64(270), object(1)\n",
      "memory usage: 454.9+ MB\n"
     ]
    }
   ],
   "source": [
    "#raw_censo_2020.iloc[:,0:8].info()\n",
    "#raw_censo_2020.loc[:,columnas_decimal].info()\n",
    "raw_censo_2020.loc[:,raw_censo_2020.columns.drop(columnas_decimal+columnas_string)].info()\n"
   ]
  },
  {
   "cell_type": "code",
   "execution_count": null,
   "metadata": {},
   "outputs": [],
   "source": []
  },
  {
   "cell_type": "code",
   "execution_count": null,
   "metadata": {},
   "outputs": [],
   "source": []
  },
  {
   "cell_type": "code",
   "execution_count": null,
   "metadata": {},
   "outputs": [],
   "source": []
  },
  {
   "cell_type": "code",
   "execution_count": 9,
   "metadata": {},
   "outputs": [
    {
     "data": {
      "text/plain": [
       "array(['00…32', 'Alfanumérico', '000…570', '0000…9999', 'Caracter',\n",
       "       '0...999999999', '0…999999999', '0.,.999999999', '0..999999999',\n",
       "       '0...99999999', '0… 999999999', '01..14'], dtype=object)"
      ]
     },
     "execution_count": 9,
     "metadata": {},
     "output_type": "execute_result"
    }
   ],
   "source": [
    "descriptor.RANGOS.unique()"
   ]
  },
  {
   "cell_type": "code",
   "execution_count": 13,
   "metadata": {},
   "outputs": [],
   "source": [
    "nuevos_nombres = {\n",
    "    'Núm.':'NUM', \n",
    "    'Indicador':'INDICADOR',\n",
    "    'Descripción':'DESCRIPCION',\n",
    "    'Mnemónico':'NOMCOL',\n",
    "    'Rangos':'RANGOS',\n",
    "    'Longitud':'LONGITUD'\n",
    "}\n",
    "\n",
    "descriptor = pd.read_csv(ruta_de_descriptor, skiprows=4, usecols=list(nuevos_nombres.keys()))\n",
    "descriptor.rename(columns=nuevos_nombres, inplace=True)"
   ]
  },
  {
   "cell_type": "code",
   "execution_count": 43,
   "metadata": {},
   "outputs": [
    {
     "data": {
      "text/plain": [
       "Index(['ENTIDAD', 'NOM_ENT', 'MUN', 'NOM_MUN', 'LOC', 'NOM_LOC', 'LONGITUD',\n",
       "       'LATITUD', 'ALTITUD', 'POBTOT',\n",
       "       ...\n",
       "       'VPH_CEL', 'VPH_INTER', 'VPH_STVP', 'VPH_SPMVPI', 'VPH_CVJ',\n",
       "       'VPH_SINRTV', 'VPH_SINLTC', 'VPH_SINCINT', 'VPH_SINTIC', 'TAMLOC'],\n",
       "      dtype='object', length=286)"
      ]
     },
     "execution_count": 43,
     "metadata": {},
     "output_type": "execute_result"
    }
   ],
   "source": [
    "raw_censo_2020.columns"
   ]
  },
  {
   "cell_type": "code",
   "execution_count": null,
   "metadata": {},
   "outputs": [],
   "source": []
  }
 ],
 "metadata": {
  "kernelspec": {
   "display_name": "base",
   "language": "python",
   "name": "python3"
  },
  "language_info": {
   "codemirror_mode": {
    "name": "ipython",
    "version": 3
   },
   "file_extension": ".py",
   "mimetype": "text/x-python",
   "name": "python",
   "nbconvert_exporter": "python",
   "pygments_lexer": "ipython3",
   "version": "3.10.9"
  },
  "orig_nbformat": 4
 },
 "nbformat": 4,
 "nbformat_minor": 2
}
