{
 "cells": [
  {
   "attachments": {},
   "cell_type": "markdown",
   "metadata": {},
   "source": [
    "# Censo de poblacion y vivienda 2020"
   ]
  },
  {
   "attachments": {},
   "cell_type": "markdown",
   "metadata": {},
   "source": [
    "## Librerias y configuraciones"
   ]
  },
  {
   "cell_type": "code",
   "execution_count": 14,
   "metadata": {},
   "outputs": [],
   "source": [
    "import os\n",
    "import pandas as pd\n",
    "import random as rnd\n",
    "import numpy as np\n",
    "from math import ceil\n",
    "import regex as re"
   ]
  },
  {
   "cell_type": "code",
   "execution_count": 2,
   "metadata": {},
   "outputs": [],
   "source": [
    "# Variable definida para imprimir información adicional en la libreta.\n",
    "verbose = True"
   ]
  },
  {
   "attachments": {},
   "cell_type": "markdown",
   "metadata": {},
   "source": [
    "## Importar archivos"
   ]
  },
  {
   "cell_type": "code",
   "execution_count": 3,
   "metadata": {},
   "outputs": [
    {
     "name": "stdout",
     "output_type": "stream",
     "text": [
      "El archivo de datos existe: True\n",
      "El descriptor de base de datos existe: True\n"
     ]
    }
   ],
   "source": [
    "# DATA_DIR es una variable de entorno en mi computadora a la cual se le \n",
    "# asignó el valor de el dicrectorio donde se guardan los datos a procesar.\n",
    "data_dir = os.getenv('DATA_DIR')\n",
    "\n",
    "# La información censal la guardo en una carpeta llamada EventosCensales \n",
    "# dentro del directorio de datos.\n",
    "censales_dir = 'EventosCensales'\n",
    "\n",
    "# Se respetó la estructura de carpetas original que se obtiene al descomprimir \n",
    "# el archivo zip que se obtiene de INEGI. Algunas veces se modifican estos \n",
    "# archivos asi que pueden cambiar. En este caso el zip se descomprimió en una \n",
    "# carpeta llamada iter_00_cpv2020.\n",
    "censo_2020_dir = 'iter_00_cpv2020'\n",
    "\n",
    "# Los datos se encuentran dentro de la carpeta conjunto_de_datos y el descriptor \n",
    "# de cada uno de los campos se encuentra en diccionario_datos.\n",
    "subdir_datos = 'conjunto_de_datos'\n",
    "subdir_descriptor = 'diccionario_datos'\n",
    "\n",
    "# El nombre del archivo donde se encentran los datos es \n",
    "# 'conjunto_de_datos_iter_00CSV20.csv' y descriptor de la base tiene el nombre \n",
    "# 'diccionario_datos_iter_00CSV20.csv'. Los dos vienen en formato csv.\n",
    "archivo_datos = 'conjunto_de_datos_iter_00CSV20.csv'\n",
    "archivo_descriptor = 'diccionario_datos_iter_00CSV20.csv'\n",
    "\n",
    "# Concatenar las rutas de archivos\n",
    "ruta_de_archivo = os.path.join(data_dir, \n",
    "                               censales_dir, \n",
    "                               censo_2020_dir, \n",
    "                               subdir_datos, \n",
    "                               archivo_datos)\n",
    "\n",
    "ruta_de_descriptor = os.path.join(data_dir, \n",
    "                                  censales_dir, \n",
    "                                  censo_2020_dir, \n",
    "                                  subdir_descriptor, \n",
    "                                  archivo_descriptor)\n",
    "\n",
    "if verbose:\n",
    "\n",
    "    print(f'El archivo de datos existe: {os.path.isfile(ruta_de_archivo)}')\n",
    "    print(f'El descriptor de base de datos existe: {os.path.isfile(ruta_de_descriptor)}')\n"
   ]
  },
  {
   "cell_type": "code",
   "execution_count": 4,
   "metadata": {},
   "outputs": [
    {
     "name": "stderr",
     "output_type": "stream",
     "text": [
      "C:\\Users\\Lorrain\\AppData\\Local\\Temp\\ipykernel_5440\\2739558870.py:2: DtypeWarning: Columns (8) have mixed types. Specify dtype option on import or set low_memory=False.\n",
      "  raw_censo_2020 = pd.read_csv(ruta_de_archivo)\n"
     ]
    }
   ],
   "source": [
    "# Importar archivo de datos\n",
    "raw_censo_2020 = pd.read_csv(ruta_de_archivo)"
   ]
  },
  {
   "cell_type": "code",
   "execution_count": 5,
   "metadata": {},
   "outputs": [],
   "source": [
    "# Importar descriptor de datos\n",
    "nuevos_nombres = {\n",
    "    'Núm.':'NUM', \n",
    "    'Indicador':'INDICADOR',\n",
    "    'Descripción':'DESCRIPCION',\n",
    "    'Mnemónico':'NOMCOL',\n",
    "    'Rangos':'RANGOS',\n",
    "    'Longitud':'LONGITUD'\n",
    "}\n",
    "\n",
    "diccionario = pd.read_csv(ruta_de_descriptor, skiprows=4, usecols=list(nuevos_nombres.keys()))\n",
    "diccionario.rename(columns=nuevos_nombres, inplace=True)"
   ]
  },
  {
   "attachments": {},
   "cell_type": "markdown",
   "metadata": {},
   "source": [
    "## Análisis inicial"
   ]
  },
  {
   "attachments": {},
   "cell_type": "markdown",
   "metadata": {},
   "source": [
    "La mayor parte de las columnas se importa como objeto, lo que significa que existen diferentes tipos de datos dentro de cada una de las columnas. Para homogeneizar los datos se tiene que hacer un analisis mas detallado para definir que tipo de dato debe de ser cada una de las columnas y cuales son los valores que no son de este tipo en cada una de ellas."
   ]
  },
  {
   "cell_type": "code",
   "execution_count": 6,
   "metadata": {},
   "outputs": [
    {
     "name": "stdout",
     "output_type": "stream",
     "text": [
      "<class 'pandas.core.frame.DataFrame'>\n",
      "RangeIndex: 195662 entries, 0 to 195661\n",
      "Columns: 286 entries, ENTIDAD to TAMLOC\n",
      "dtypes: int64(6), object(280)\n",
      "memory usage: 426.9+ MB\n"
     ]
    }
   ],
   "source": [
    "# Primera descripcion\n",
    "raw_censo_2020.info()"
   ]
  },
  {
   "attachments": {},
   "cell_type": "markdown",
   "metadata": {},
   "source": [
    "El primer registro es un buen acercamiento al tipo de dato que contiene cada una de las columnas. Representa el total nacional, y como tal hay columnas que no aplican. Tal es el caso de las columnas que definen el nombre y clave del Estado, Municipio, y Localidad. No contienen tampoco longitud y latiud, estos datos solo estan presentes en los registros que representan localidades especificas."
   ]
  },
  {
   "cell_type": "code",
   "execution_count": 7,
   "metadata": {},
   "outputs": [
    {
     "name": "stdout",
     "output_type": "stream",
     "text": [
      "Numero de columnas 286\n"
     ]
    }
   ],
   "source": [
    "# Diccionario cuyas llaves son el nombre de columna y valores del primer registro \n",
    "# del dataframe.\n",
    "ejemplo_datos = {key : value for key, value in \n",
    "                zip(raw_censo_2020.columns, raw_censo_2020.iloc[0])}\n",
    "\n",
    "if verbose:\n",
    "    print(f'Numero de columnas {len(ejemplo_datos.items())}')"
   ]
  },
  {
   "cell_type": "code",
   "execution_count": 8,
   "metadata": {},
   "outputs": [],
   "source": [
    "# En general las libretas jupyter no imprimen un texto de mas de ciertas lineas.\n",
    "# para ver todos los registros hay que cambiar los valores dentro de los\n",
    "# corchetes ([0:20]) de la linea comentada para recorrerlos todos. Hay 286 pares \n",
    "# llave: valor en el diccionario.\n",
    "\n",
    "#for item in list(ejemplo_datos.items())[0:20]: print(item)  "
   ]
  },
  {
   "attachments": {},
   "cell_type": "markdown",
   "metadata": {},
   "source": [
    "Existen tres tipos de columnas que deben estar en formato string. El primer tipo es el que contiene los nombres de los Estados, Municipios y Localidades. El segundo tipo contiene las claves de los diferentes niveles de entidad. Y el tercero contiene las coodenadas geograficas en formato de grados minutos y seguntos. Las columnas que deberian ser texto son las siguientes:\n",
    "\n",
    "['ENTIDAD', 'NOM_ENT', 'MUN', 'NOM_MUN', 'LOC', 'NOM_LOC', 'LONGITUD', 'LATITUD']"
   ]
  },
  {
   "attachments": {},
   "cell_type": "markdown",
   "metadata": {},
   "source": [
    "El resto de las columnas contiene valores numericos. Casi todas tienen el formato de numeros enteros pero 6 que contienen promedios y una que contiene la relacion que existe entre hombres y mujeres de la delimitación geoestadistica. Estos campos contienen decimales por lo que deben de tener el formato Float. Las columnas con valores decimales son:\n",
    "\n",
    "['REL_H_M', 'PROM_HNV', 'GRAPROES', 'GRAPROES_F', 'GRAPROES_M', 'PROM_OCUP', 'PRO_OCUP_C']"
   ]
  },
  {
   "attachments": {},
   "cell_type": "markdown",
   "metadata": {},
   "source": [
    "El resto de las columnas contienen numeros enteros."
   ]
  },
  {
   "cell_type": "code",
   "execution_count": 9,
   "metadata": {},
   "outputs": [],
   "source": [
    "# Todas las columnas\n",
    "columnas_censo_2020 = list(raw_censo_2020.columns)\n",
    "\n",
    "# Columnas de texto\n",
    "columnas_string = ['ENTIDAD', 'NOM_ENT', 'MUN', 'NOM_MUN', 'LOC', 'NOM_LOC', \n",
    "                   'LONGITUD', 'LATITUD']\n",
    "# Columnas con valores decimales\n",
    "columnas_decimal = ['REL_H_M', 'PROM_HNV', 'GRAPROES', 'GRAPROES_F', 'GRAPROES_M', \n",
    "                    'PROM_OCUP', 'PRO_OCUP_C']\n",
    "\n",
    "# El resto de las columnas son numeros enteros\n",
    "columnas_entero = [i for i in columnas_censo_2020 \n",
    "                   if i not in columnas_string + columnas_decimal]"
   ]
  },
  {
   "attachments": {},
   "cell_type": "markdown",
   "metadata": {},
   "source": [
    "Existen dos valores no numericos en las columnas con formato de numeros enteros y tambien de decimales. Estos valores hacen que el programa represente como objeto todos los registros. Los valores de texto que hay que sustituir son los siguientes:\n",
    "\n",
    "['*', 'N/D']"
   ]
  },
  {
   "attachments": {},
   "cell_type": "markdown",
   "metadata": {},
   "source": [
    "La columna ALTITUD tiene 32 valores no numericos. En teoria deberia contener valores enteros y va a ser tratado como un caso aparte."
   ]
  },
  {
   "cell_type": "code",
   "execution_count": 10,
   "metadata": {},
   "outputs": [],
   "source": [
    "# Tarda un poco en calcularse esta celda\n",
    "valores_string_por_columna = {}\n",
    "for column in columnas_censo_2020:\n",
    "        # Se quitaron las columnas con nombres pero se dejaron las columnas con claves\n",
    "        # alfanumericas\n",
    "        if column not in ['NOM_ENT', 'NOM_MUN', 'NOM_LOC', 'LONGITUD', 'LATITUD']:\n",
    "                valores_no_numericos = tuple(raw_censo_2020[~raw_censo_2020[column]\n",
    "                                                            .astype('string')\n",
    "                                                            .str.strip()\n",
    "                                                            .str.replace('.', '', regex = False)\n",
    "                                                            .str.isnumeric()]\n",
    "                                                            [column].unique())\n",
    "                if valores_no_numericos in valores_string_por_columna.keys():\n",
    "                        valores_string_por_columna[valores_no_numericos] += [column]\n",
    "                \n",
    "                else:\n",
    "                        valores_string_por_columna[valores_no_numericos] = [column]\n"
   ]
  },
  {
   "cell_type": "code",
   "execution_count": 11,
   "metadata": {},
   "outputs": [],
   "source": [
    "# Registros con valores de texto\n",
    "#raw_censo_2020[raw_censo_2020.eq('*').any(1)]\n",
    "#raw_censo_2020[raw_censo_2020.eq('N/D').any(1)]\n"
   ]
  },
  {
   "cell_type": "code",
   "execution_count": 12,
   "metadata": {},
   "outputs": [
    {
     "name": "stdout",
     "output_type": "stream",
     "text": [
      "Columnas:\n",
      "['ENTIDAD', 'MUN', 'LOC', 'POBTOT', 'VIVTOT', 'TVIVHAB']\n",
      "Valores de texto:\n",
      "()\n",
      "\n",
      "Columnas:\n",
      "['ALTITUD']\n",
      "Valores de texto:\n",
      "('-006', '-001', '-002', '-005', '00-2', '-012', '-007')\n",
      "('-008', '-009', '-003', '-010', '00-1', '00-4', -8.0)\n",
      "(-2.0, -6.0, -5.0, -1.0, -7.0, '-004', '00-3')\n",
      "('-013', -3.0, -18.0, -4.0, -9.0, '00-8', '00-5')\n",
      "(-10.0, -11.0, -12.0, -15.0)\n",
      "\n",
      "Columnas:\n",
      "['POBFEM', 'POBMAS', 'TAMLOC']\n",
      "Valores de texto:\n",
      "('*',)\n",
      "\n",
      "Columnas:\n",
      "['P_0A2', 'P_0A2_F', 'P_0A2_M', 'P_3YMAS', 'P_3YMAS_F', 'P_3YMAS_M', 'P_5YMAS']\n",
      "['P_5YMAS_F', 'P_5YMAS_M', 'P_12YMAS', 'P_12YMAS_F', 'P_12YMAS_M', 'P_15YMAS', 'P_15YMAS_F']\n",
      "['P_15YMAS_M', 'P_18YMAS', 'P_18YMAS_F', 'P_18YMAS_M', 'P_3A5', 'P_3A5_F', 'P_3A5_M']\n",
      "['P_6A11', 'P_6A11_F', 'P_6A11_M', 'P_8A14', 'P_8A14_F', 'P_8A14_M', 'P_12A14']\n",
      "['P_12A14_F', 'P_12A14_M', 'P_15A17', 'P_15A17_F', 'P_15A17_M', 'P_18A24', 'P_18A24_F']\n",
      "['P_18A24_M', 'P_15A49_F', 'P_60YMAS', 'P_60YMAS_F', 'P_60YMAS_M', 'REL_H_M', 'POB0_14']\n",
      "['POB15_64', 'POB65_MAS', 'P_0A4', 'P_0A4_F', 'P_0A4_M', 'P_5A9', 'P_5A9_F']\n",
      "['P_5A9_M', 'P_10A14', 'P_10A14_F', 'P_10A14_M', 'P_15A19', 'P_15A19_F', 'P_15A19_M']\n",
      "['P_20A24', 'P_20A24_F', 'P_20A24_M', 'P_25A29', 'P_25A29_F', 'P_25A29_M', 'P_30A34']\n",
      "['P_30A34_F', 'P_30A34_M', 'P_35A39', 'P_35A39_F', 'P_35A39_M', 'P_40A44', 'P_40A44_F']\n",
      "['P_40A44_M', 'P_45A49', 'P_45A49_F', 'P_45A49_M', 'P_50A54', 'P_50A54_F', 'P_50A54_M']\n",
      "['P_55A59', 'P_55A59_F', 'P_55A59_M', 'P_60A64', 'P_60A64_F', 'P_60A64_M', 'P_65A69']\n",
      "['P_65A69_F', 'P_65A69_M', 'P_70A74', 'P_70A74_F', 'P_70A74_M', 'P_75A79', 'P_75A79_F']\n",
      "['P_75A79_M', 'P_80A84', 'P_80A84_F', 'P_80A84_M', 'P_85YMAS', 'P_85YMAS_F', 'P_85YMAS_M']\n",
      "['PROM_HNV', 'PNACENT', 'PNACENT_F', 'PNACENT_M', 'PNACOE', 'PNACOE_F', 'PNACOE_M']\n",
      "['PRES2015', 'PRES2015_F', 'PRES2015_M', 'PRESOE15', 'PRESOE15_F', 'PRESOE15_M', 'P3YM_HLI']\n",
      "['P3YM_HLI_F', 'P3YM_HLI_M', 'P3HLINHE', 'P3HLINHE_F', 'P3HLINHE_M', 'P3HLI_HE', 'P3HLI_HE_F']\n",
      "['P3HLI_HE_M', 'P5_HLI', 'P5_HLI_NHE', 'P5_HLI_HE', 'PHOG_IND', 'POB_AFRO', 'POB_AFRO_F']\n",
      "['POB_AFRO_M', 'PCON_DISC', 'PCDISC_MOT', 'PCDISC_VIS', 'PCDISC_LENG', 'PCDISC_AUD', 'PCDISC_MOT2']\n",
      "['PCDISC_MEN', 'PCON_LIMI', 'PCLIM_CSB', 'PCLIM_VIS', 'PCLIM_HACO', 'PCLIM_OAUD', 'PCLIM_MOT2']\n",
      "['PCLIM_RE_CO', 'PCLIM_PMEN', 'PSIND_LIM', 'P3A5_NOA', 'P3A5_NOA_F', 'P3A5_NOA_M', 'P6A11_NOA']\n",
      "['P6A11_NOAF', 'P6A11_NOAM', 'P12A14NOA', 'P12A14NOAF', 'P12A14NOAM', 'P15A17A', 'P15A17A_F']\n",
      "['P15A17A_M', 'P18A24A', 'P18A24A_F', 'P18A24A_M', 'P8A14AN', 'P8A14AN_F', 'P8A14AN_M']\n",
      "['P15YM_AN', 'P15YM_AN_F', 'P15YM_AN_M', 'P15YM_SE', 'P15YM_SE_F', 'P15YM_SE_M', 'P15PRI_IN']\n",
      "['P15PRI_INF', 'P15PRI_INM', 'P15PRI_CO', 'P15PRI_COF', 'P15PRI_COM', 'P15SEC_IN', 'P15SEC_INF']\n",
      "['P15SEC_INM', 'P15SEC_CO', 'P15SEC_COF', 'P15SEC_COM', 'P18YM_PB', 'P18YM_PB_F', 'P18YM_PB_M']\n",
      "['GRAPROES', 'GRAPROES_F', 'GRAPROES_M', 'PEA', 'PEA_F', 'PEA_M', 'PE_INAC']\n",
      "['PE_INAC_F', 'PE_INAC_M', 'POCUPADA', 'POCUPADA_F', 'POCUPADA_M', 'PDESOCUP', 'PDESOCUP_F']\n",
      "['PDESOCUP_M', 'PSINDER', 'PDER_SS', 'PDER_IMSS', 'PDER_ISTE', 'PDER_ISTEE', 'PAFIL_PDOM']\n",
      "['PDER_SEGP', 'PDER_IMSSB', 'PAFIL_IPRIV', 'PAFIL_OTRAI', 'P12YM_SOLT', 'P12YM_CASA', 'P12YM_SEPA']\n",
      "['PCATOLICA', 'PRO_CRIEVA', 'POTRAS_REL', 'PSIN_RELIG', 'TOTHOG', 'HOGJEF_F', 'HOGJEF_M']\n",
      "['POBHOG', 'PHOGJEF_F', 'PHOGJEF_M', 'TVIVPAR', 'VIVPAR_HAB', 'VIVPARH_CV', 'TVIVPARHAB']\n",
      "['VIVPAR_DES', 'VIVPAR_UT', 'OCUPVIVPAR', 'PROM_OCUP', 'PRO_OCUP_C', 'VPH_PISODT', 'VPH_PISOTI']\n",
      "['VPH_1DOR', 'VPH_2YMASD', 'VPH_1CUART', 'VPH_2CUART', 'VPH_3YMASC', 'VPH_C_ELEC', 'VPH_S_ELEC']\n",
      "['VPH_AGUADV', 'VPH_AEASP', 'VPH_AGUAFV', 'VPH_TINACO', 'VPH_CISTER', 'VPH_EXCSA', 'VPH_LETR']\n",
      "['VPH_DRENAJ', 'VPH_NODREN', 'VPH_C_SERV', 'VPH_NDEAED', 'VPH_DSADMA', 'VPH_NDACMM', 'VPH_SNBIEN']\n",
      "['VPH_REFRI', 'VPH_LAVAD', 'VPH_HMICRO', 'VPH_AUTOM', 'VPH_MOTO', 'VPH_BICI', 'VPH_RADIO']\n",
      "['VPH_TV', 'VPH_PC', 'VPH_TELEF', 'VPH_CEL', 'VPH_INTER', 'VPH_STVP', 'VPH_SPMVPI']\n",
      "['VPH_CVJ', 'VPH_SINRTV', 'VPH_SINLTC', 'VPH_SINCINT', 'VPH_SINTIC']\n",
      "Valores de texto:\n",
      "('*', 'N/D')\n",
      "\n",
      "Filas en los que aparece el valor N/D: 152\n",
      "Filas en los que aparece el valor *: 87335\n"
     ]
    }
   ],
   "source": [
    "# Resumen valores de texto\n",
    "\n",
    "if verbose:\n",
    "    ND_verdaderos = raw_censo_2020.eq('N/D').any(axis = 1).value_counts()[1]\n",
    "    asterisco_verdaderos = raw_censo_2020.eq('*').any(axis = 1).value_counts()[1]\n",
    "    \n",
    "    elementos_por_linea = 7\n",
    "    for llave, valor in valores_string_por_columna.items():\n",
    "        iteraciones_llaves = len(llave) / elementos_por_linea\n",
    "        iteraciones_valores = len(valor) / elementos_por_linea\n",
    "\n",
    "        if iteraciones_llaves < 1: iteraciones_llaves  = 1\n",
    "        else: iteraciones_llaves = ceil(iteraciones_llaves)\n",
    "\n",
    "        if iteraciones_valores < 1: iteraciones_valores = 1\n",
    "        else: iteraciones_valores = ceil(iteraciones_valores)\n",
    "\n",
    "        \n",
    "        inicial, final = 0, elementos_por_linea\n",
    "        \n",
    "        print('Columnas:')\n",
    "        for columnas_similares in range(0, iteraciones_valores):\n",
    "\n",
    "            print(valor[inicial: final])\n",
    "            inicial += elementos_por_linea\n",
    "            final += elementos_por_linea\n",
    "\n",
    "        print('Valores de texto:')   \n",
    "        inicial, final = 0, elementos_por_linea\n",
    "        for valores_llave in range(0, iteraciones_llaves):\n",
    "\n",
    "            print(llave[inicial:final])\n",
    "            inicial += elementos_por_linea\n",
    "            final += elementos_por_linea\n",
    "        print()\n",
    "    \n",
    "    print(f'Filas en los que aparece el valor N/D: {ND_verdaderos}')\n",
    "    print(f'Filas en los que aparece el valor *: {asterisco_verdaderos}')"
   ]
  },
  {
   "attachments": {},
   "cell_type": "markdown",
   "metadata": {},
   "source": [
    "Las columnas LONGITUD y LATITUD tiene la informacion de las coordenadas en formato de grados minutos y segundos. Existen registros sin un valor en estas columnas pero son registros que representan la informacion total nacional, de los estados, municipios y la informacion de localidades de una y dos viviendas."
   ]
  },
  {
   "attachments": {},
   "cell_type": "markdown",
   "metadata": {},
   "source": [
    "Los registros que si contienen información en estas columnas contienen el mismo formato de texto. Una vez que se les quitan los espacios en blanco antes y despues de los textos (.strip), contienen dos o tres digitos seguidos del simbolo de grado (°), seguido de otros dos digitos y el simbolo de minutos ('), seguido de tres digitos mas, un punto (.), tres digitos mas y el simbolo de segundos (\"), seguido de un espacio en blanco y la letra W en la longitud y N para la latitud."
   ]
  },
  {
   "cell_type": "code",
   "execution_count": 89,
   "metadata": {},
   "outputs": [],
   "source": [
    "#raw_censo_2020[raw_censo_2020.LATITUD.isna()].NOM_LOC.unique()\n",
    "#raw_censo_2020[raw_censo_2020.LONGITUD.isna()].NOM_LOC.unique()"
   ]
  },
  {
   "cell_type": "code",
   "execution_count": 88,
   "metadata": {},
   "outputs": [
    {
     "data": {
      "text/plain": [
       "True    189432\n",
       "NaN       6230\n",
       "Name: LATITUD, dtype: int64"
      ]
     },
     "execution_count": 88,
     "metadata": {},
     "output_type": "execute_result"
    }
   ],
   "source": [
    "# Comprobar formato de longitud\n",
    "raw_censo_2020.LATITUD\\\n",
    "    .str.strip()\\\n",
    "    .str.contains(r'^\\d{2}°\\d{2}\\'\\d{2}\\.\\d{3}\\\"\\sN$')\\\n",
    "    .value_counts(dropna = False)"
   ]
  },
  {
   "cell_type": "code",
   "execution_count": 73,
   "metadata": {},
   "outputs": [
    {
     "data": {
      "text/plain": [
       "True    189432\n",
       "NaN       6230\n",
       "Name: LONGITUD, dtype: int64"
      ]
     },
     "execution_count": 73,
     "metadata": {},
     "output_type": "execute_result"
    }
   ],
   "source": [
    "#Comprobar formato de latitud\n",
    "raw_censo_2020.LONGITUD\\\n",
    "    .str.strip()\\\n",
    "    .str.contains(r'^\\d{2,3}°\\d{2}\\'\\d{2}\\.\\d{3}\\\"\\sW$')\\\n",
    "    .value_counts(dropna = False)"
   ]
  },
  {
   "cell_type": "code",
   "execution_count": 79,
   "metadata": {},
   "outputs": [],
   "source": [
    "#diccionario.columns                   # Columnas del diccionario\n",
    "#list(diccionario.NOMCOL.unique())[:]  # Columnas del iter"
   ]
  },
  {
   "cell_type": "code",
   "execution_count": 90,
   "metadata": {},
   "outputs": [
    {
     "name": "stdout",
     "output_type": "stream",
     "text": [
      "NUM:\n",
      "[1]\n",
      "INDICADOR:\n",
      "['Clave de entidad federativa']\n",
      "DESCRIPCION:\n",
      "['Código que identifica a la entidad federativa. El código 00 identifica a los registros con los totales a nivel nacional.']\n",
      "NOMCOL:\n",
      "['ENTIDAD']\n",
      "RANGOS:\n",
      "['00…32']\n",
      "LONGITUD:\n",
      "[2]\n"
     ]
    }
   ],
   "source": [
    "# Información de columnas del Censo 2020\n",
    "columna_de_interes = 'ENTIDAD'  # Poner columna de interes aqui.\n",
    "info_columna = diccionario[diccionario.NOMCOL.isin([columna_de_interes])]\n",
    "\n",
    "for columna in info_columna.columns:\n",
    "    print(f'{columna}:')\n",
    "    print(info_columna[columna].values)\n"
   ]
  },
  {
   "attachments": {},
   "cell_type": "markdown",
   "metadata": {},
   "source": [
    "## Cambiar el formato a columnas"
   ]
  },
  {
   "attachments": {},
   "cell_type": "markdown",
   "metadata": {},
   "source": [
    "### Columnas con claves"
   ]
  },
  {
   "attachments": {},
   "cell_type": "markdown",
   "metadata": {},
   "source": [
    "Las columnas con las claves alfanumericas de los estados, municipios y localidades fueron importadas en su mayoria como numeros. Se van a cambiar a formato de numero y se les va a reformatear. para que tengan el numero correcto de caracterers necesario para poder concatenarlas.\n",
    "\n",
    "Entidad es una clave que debe de tener 2 posiciones aunque su valor numerico sea 1. En este caso la clave correcta que debe de tener es '01'. La clave de los municipios esta conformada por 3 posiciones, y la de localidad por 4. Al igual que la clave del estado, si el municipio o la localidad tuvieran asignado el numero 1 para representarlos, las claves correctas deben de ser '001' y '0001' segun sea el caso."
   ]
  },
  {
   "cell_type": "code",
   "execution_count": 54,
   "metadata": {},
   "outputs": [],
   "source": [
    "# Reformatear columnas con claves alfa numericas.\n",
    "for string_column, keylength in zip(['ENTIDAD', 'MUN', 'LOC'], [2, 3, 4]):\n",
    "    raw_censo_2020[string_column] = raw_censo_2020[string_column].astype('string').str.zfill(keylength)\n",
    "\n"
   ]
  },
  {
   "cell_type": "code",
   "execution_count": 67,
   "metadata": {},
   "outputs": [
    {
     "name": "stdout",
     "output_type": "stream",
     "text": [
      "Claves de entidad, municipio y localidad corregidas:\n",
      "\n",
      "ENTIDAD                     16\n",
      "NOM_ENT    Michoacán de Ocampo\n",
      "MUN                        010\n",
      "NOM_MUN                Arteaga\n",
      "LOC                       0881\n",
      "Name: 96987, dtype: object\n"
     ]
    }
   ],
   "source": [
    "# Resultado\n",
    "if verbose:\n",
    "    print('Claves de entidad, municipio y localidad corregidas:', end='\\n\\n')\n",
    "    print(raw_censo_2020.iloc[rnd.randint(0,raw_censo_2020.shape[0]),0:5])"
   ]
  },
  {
   "attachments": {},
   "cell_type": "markdown",
   "metadata": {},
   "source": [
    "### Columnas de coordenadas"
   ]
  },
  {
   "attachments": {},
   "cell_type": "markdown",
   "metadata": {},
   "source": [
    "Las columnas LONGITUD Y LATITUD se conservarán tal y como se encuentran pero se procesaran de dos maneras para que existan columnas en el formato que los Sistemas de Información Geografica piden para geolocalizar puntos en el mapa. \n",
    "\n",
    "Los formatos que se aceptan son columnas numericas donde se definen de manera separada los grados, los minutos y los segundos para la longitud y la latiud. Y una sola columna en grados decimales, donde el numero entero representa los grados, y los digitos decimales representan la porcion de minutos y segundos restantes.\n",
    "\n",
    "Antes, los programas GIS necestaban las coordenadas en grados decimales para poder renderizar el mapa. Hoy en dia tambien aceptan la información de grados, minutos y segundos en columnas aparte y lo calculan ellos de manera automatica. Se generarán las columnas para representar las localidades en los dos formatos.\n"
   ]
  },
  {
   "cell_type": "code",
   "execution_count": null,
   "metadata": {},
   "outputs": [],
   "source": [
    "# Grados, minutos, y segundos en columnas separadas."
   ]
  },
  {
   "cell_type": "code",
   "execution_count": null,
   "metadata": {},
   "outputs": [],
   "source": [
    "# Grados decimales"
   ]
  },
  {
   "attachments": {},
   "cell_type": "markdown",
   "metadata": {},
   "source": [
    "### Columnas numericas"
   ]
  },
  {
   "cell_type": "code",
   "execution_count": null,
   "metadata": {},
   "outputs": [],
   "source": []
  },
  {
   "cell_type": "code",
   "execution_count": null,
   "metadata": {},
   "outputs": [],
   "source": []
  },
  {
   "attachments": {},
   "cell_type": "markdown",
   "metadata": {},
   "source": [
    "### Columna de altitud"
   ]
  },
  {
   "cell_type": "code",
   "execution_count": null,
   "metadata": {},
   "outputs": [],
   "source": []
  },
  {
   "cell_type": "code",
   "execution_count": null,
   "metadata": {},
   "outputs": [],
   "source": []
  },
  {
   "attachments": {},
   "cell_type": "markdown",
   "metadata": {},
   "source": [
    "## Pruebas..."
   ]
  },
  {
   "cell_type": "code",
   "execution_count": 9,
   "metadata": {},
   "outputs": [],
   "source": [
    "\n",
    "column_dtype = {}\n",
    "for column in raw_censo_2020.columns:\n",
    "\n",
    "    if column in columnas_string:\n",
    "        column_dtype[column] = 'string'\n",
    "\n",
    "    elif column in columnas_decimal:\n",
    "        column_dtype[column] = 'Float64'\n",
    "\n",
    "    else:\n",
    "        column_dtype[column] = 'Int64'\n"
   ]
  },
  {
   "cell_type": "code",
   "execution_count": 18,
   "metadata": {},
   "outputs": [],
   "source": [
    "\n",
    "for string_column in columnas_string:\n",
    "    if string_column not in ['ENTIDAD', 'MUN', 'LOC']:\n",
    "        raw_censo_2020[string_column] = raw_censo_2020[string_column].astype(\"string\")\n",
    "\n",
    "for numeric_column in raw_censo_2020.columns:\n",
    "\n",
    "    if numeric_column not in columnas_string + ['ALTITUD']:\n",
    "        \n",
    "        raw_censo_2020[numeric_column].replace(to_replace = ['*', 'N/D'], value = np.nan, inplace = True)\n",
    "\n",
    "        if numeric_column in columnas_decimal:\n",
    "            raw_censo_2020[numeric_column] = raw_censo_2020[numeric_column].astype('Float64')\n",
    "        \n",
    "        else:\n",
    "            raw_censo_2020[numeric_column] = raw_censo_2020[numeric_column].astype('Int64')\n",
    "\n",
    "\n",
    "\n"
   ]
  },
  {
   "cell_type": "code",
   "execution_count": 19,
   "metadata": {},
   "outputs": [
    {
     "data": {
      "text/plain": [
       "['ENTIDAD',\n",
       " 'NOM_ENT',\n",
       " 'MUN',\n",
       " 'NOM_MUN',\n",
       " 'LOC',\n",
       " 'NOM_LOC',\n",
       " 'LONGITUD',\n",
       " 'LATITUD',\n",
       " 'REL_H_M',\n",
       " 'PROM_HNV',\n",
       " 'GRAPROES',\n",
       " 'GRAPROES_F',\n",
       " 'GRAPROES_M',\n",
       " 'PROM_OCUP',\n",
       " 'PRO_OCUP_C']"
      ]
     },
     "execution_count": 19,
     "metadata": {},
     "output_type": "execute_result"
    }
   ],
   "source": [
    "columnas_string + columnas_decimal"
   ]
  },
  {
   "cell_type": "code",
   "execution_count": 20,
   "metadata": {},
   "outputs": [
    {
     "name": "stdout",
     "output_type": "stream",
     "text": [
      "<class 'pandas.core.frame.DataFrame'>\n",
      "RangeIndex: 195662 entries, 0 to 195661\n",
      "Columns: 271 entries, ALTITUD to TAMLOC\n",
      "dtypes: Int64(270), object(1)\n",
      "memory usage: 454.9+ MB\n"
     ]
    }
   ],
   "source": [
    "#raw_censo_2020.iloc[:,0:8].info()\n",
    "#raw_censo_2020.loc[:,columnas_decimal].info()\n",
    "raw_censo_2020.loc[:,raw_censo_2020.columns.drop(columnas_decimal+columnas_string)].info()\n"
   ]
  },
  {
   "cell_type": "code",
   "execution_count": null,
   "metadata": {},
   "outputs": [],
   "source": []
  },
  {
   "cell_type": "code",
   "execution_count": null,
   "metadata": {},
   "outputs": [],
   "source": []
  },
  {
   "cell_type": "code",
   "execution_count": null,
   "metadata": {},
   "outputs": [],
   "source": []
  },
  {
   "cell_type": "code",
   "execution_count": 9,
   "metadata": {},
   "outputs": [
    {
     "data": {
      "text/plain": [
       "array(['00…32', 'Alfanumérico', '000…570', '0000…9999', 'Caracter',\n",
       "       '0...999999999', '0…999999999', '0.,.999999999', '0..999999999',\n",
       "       '0...99999999', '0… 999999999', '01..14'], dtype=object)"
      ]
     },
     "execution_count": 9,
     "metadata": {},
     "output_type": "execute_result"
    }
   ],
   "source": [
    "descriptor.RANGOS.unique()"
   ]
  },
  {
   "cell_type": "code",
   "execution_count": 13,
   "metadata": {},
   "outputs": [],
   "source": [
    "nuevos_nombres = {\n",
    "    'Núm.':'NUM', \n",
    "    'Indicador':'INDICADOR',\n",
    "    'Descripción':'DESCRIPCION',\n",
    "    'Mnemónico':'NOMCOL',\n",
    "    'Rangos':'RANGOS',\n",
    "    'Longitud':'LONGITUD'\n",
    "}\n",
    "\n",
    "descriptor = pd.read_csv(ruta_de_descriptor, skiprows=4, usecols=list(nuevos_nombres.keys()))\n",
    "descriptor.rename(columns=nuevos_nombres, inplace=True)"
   ]
  },
  {
   "cell_type": "code",
   "execution_count": 43,
   "metadata": {},
   "outputs": [
    {
     "data": {
      "text/plain": [
       "Index(['ENTIDAD', 'NOM_ENT', 'MUN', 'NOM_MUN', 'LOC', 'NOM_LOC', 'LONGITUD',\n",
       "       'LATITUD', 'ALTITUD', 'POBTOT',\n",
       "       ...\n",
       "       'VPH_CEL', 'VPH_INTER', 'VPH_STVP', 'VPH_SPMVPI', 'VPH_CVJ',\n",
       "       'VPH_SINRTV', 'VPH_SINLTC', 'VPH_SINCINT', 'VPH_SINTIC', 'TAMLOC'],\n",
       "      dtype='object', length=286)"
      ]
     },
     "execution_count": 43,
     "metadata": {},
     "output_type": "execute_result"
    }
   ],
   "source": [
    "raw_censo_2020.columns"
   ]
  },
  {
   "cell_type": "code",
   "execution_count": null,
   "metadata": {},
   "outputs": [],
   "source": []
  }
 ],
 "metadata": {
  "kernelspec": {
   "display_name": "base",
   "language": "python",
   "name": "python3"
  },
  "language_info": {
   "codemirror_mode": {
    "name": "ipython",
    "version": 3
   },
   "file_extension": ".py",
   "mimetype": "text/x-python",
   "name": "python",
   "nbconvert_exporter": "python",
   "pygments_lexer": "ipython3",
   "version": "3.10.9"
  },
  "orig_nbformat": 4
 },
 "nbformat": 4,
 "nbformat_minor": 2
}
